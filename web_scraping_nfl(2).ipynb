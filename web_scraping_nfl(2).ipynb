{
 "cells": [
  {
   "cell_type": "markdown",
   "metadata": {},
   "source": [
    "# Web Scraping NFL data\n",
    "\n",
    " This is a project going over some basic web scraping techniques and methods applied to \n",
    " collect, clean and analyze NFL fantasy football data\n",
    " \n",
    " ### Learning Objectives\n",
    "     1. Finding a good data source and check if site allows for automatic access to data\n",
    "     2. Inspect HTML code of the page we want to get our data from and see where it\n",
    "     is embedded in the webpage\n",
    "     3. Scrape/collect the data from the website that we want\n",
    "     4. Explore the unfiltered messy data and get familiar with data\n",
    "     5. Clean and prepare the messy data and store it into table\n",
    "     6. Run some basic stats on data\n",
    "     7. Hypothesis testing\n",
    "     8. Visualizations\n",
    "     9. Predictions"
   ]
  },
  {
   "cell_type": "markdown",
   "metadata": {},
   "source": [
    "### Part 1:\n",
    "    - Finding data online \n",
    "    - Checking site policies on data collection \n",
    "    - Basics to extracting data from HTML webpage    "
   ]
  },
  {
   "cell_type": "code",
   "execution_count": 56,
   "metadata": {},
   "outputs": [],
   "source": [
    "# Lets import the packages we will need to use for this project\n",
    "# You can use other packages if you'd like\n",
    "\n",
    "\n",
    "import requests\n",
    "%matplotlib inline\n",
    "import numpy as np\n",
    "from datascience import *\n",
    "import pandas as pd\n",
    "import lxml.html as lh\n"
   ]
  },
  {
   "cell_type": "code",
   "execution_count": 57,
   "metadata": {},
   "outputs": [],
   "source": [
    "# This is a code that I copied from my DSC96 class at UCSD that will check if the \n",
    "# the website we wish to use prohibits webscraping via robot.txt policy so just run it!\n",
    "# But remeber this does not gurantee you can scrape the website!!!!!!\n",
    "# So it is best to follow these guide lines:\n",
    "#\n",
    "# 1.Don't break anything. Many rapid requests to smaller sites can overload the host server.\n",
    "# 2.Use a published API if possible - it is more robust and usually much easier!\n",
    "# 3.Respect the policy published at robots.txt\n",
    "# 4.Don't spoof your UserAgent (or try to trick the server into thinking you are a person)\n",
    "# 5.Read the Terms of Service for the site and follow it.\n",
    "#\n",
    "########################################################################################## \n",
    "\n",
    "\n",
    "\n",
    "from urllib.parse import urlparse\n",
    "import urllib.robotparser\n",
    "\n",
    "# This code checks the robots.txt file\n",
    "def canFetch(url):\n",
    "\n",
    "    parsed_uri = urlparse(url)\n",
    "    domain = '{uri.scheme}://{uri.netloc}/'.format(uri=parsed_uri)\n",
    "\n",
    "    rp = urllib.robotparser.RobotFileParser()\n",
    "    rp.set_url(domain + \"/robots.txt\")\n",
    "    try:\n",
    "        rp.read()\n",
    "        canFetchBool = rp.can_fetch(\"*\", url)\n",
    "    except:\n",
    "        canFetchBool = None\n",
    "    \n",
    "    return canFetchBool"
   ]
  },
  {
   "cell_type": "code",
   "execution_count": 58,
   "metadata": {},
   "outputs": [
    {
     "name": "stdout",
     "output_type": "stream",
     "text": [
      "\n",
      "<!DOCTYPE html>\n",
      "<html data-version=\"klecko-\" data-root=\"/home/pfr/build\" itemscope itemtype=\"https://schema.org/WebSite\" lang=\"en\" class=\"no-js\" >\n",
      "<head>\n",
      "    <meta charset=\"utf-8\">\n",
      "    <meta http-equiv=\"x-ua-compatible\" content=\"ie=edge\">\n",
      "    <meta name=\"viewport\" content=\"width=device-width, initial-scale=1.0, maximum-scale=2.0\" />\n",
      "    <link rel=\"dns-prefetch\" href=\"https://d2p3bygnnzw9w3.cloudfront.net/req/201811161\" />\n",
      "\n",
      "<!-- no:cookie fast load the css.           -->\n",
      "<link rel=\"preconnect\" href=\"https://d2p3bygnnzw9w3.cloudfront.net\" crossorigin>\n",
      "<link rel=\"preconnect\" href=\"https://d395i9ljze9h3x.cloudfront.net\" crossorigin>\n",
      " <style>html,body{margin:0;padding:0;font:14px/1.25 \"Helvetica Neue\",helvetica,arial,sans-serif;color:#000}body{position:relative;background:#c9cbcd;z-index:0;-webkit-text-size-adjust:none;-moz-text-size-adjust:none;-ms-text-size-adjust:none}a img{border:0}ul,li,ol{margin:0;padding:0;list-style-type:none}table th,table td{border:0}iframe{max-width:100%}code{ba\n",
      "\n",
      "\n",
      "... 1214023 additional characters\n"
     ]
    }
   ],
   "source": [
    "url = \"https://www.pro-football-reference.com/years/2018/fantasy.htm\"\n",
    "\n",
    "r = requests.get(url)\n",
    "    \n",
    "urlText = r.text\n",
    "\n",
    "Nchars = 1000\n",
    "print(urlText[:Nchars]) # Print the first 500 characters\n",
    "print(\"\\n\\n... \" + str(len(urlText)-Nchars) + \" additional characters\")"
   ]
  },
  {
   "cell_type": "code",
   "execution_count": 59,
   "metadata": {},
   "outputs": [
    {
     "data": {
      "text/plain": [
       "True"
      ]
     },
     "execution_count": 59,
     "metadata": {},
     "output_type": "execute_result"
    }
   ],
   "source": [
    "# Scraping Data from webstie\n",
    "# First check to see if it passes robot.txt test\n",
    "\n",
    "url = \"https://www.pro-football-reference.com/years/2018/fantasy.htm\"\n",
    "canFetch(url)"
   ]
  },
  {
   "cell_type": "code",
   "execution_count": 60,
   "metadata": {},
   "outputs": [],
   "source": [
    "from bs4 import BeautifulSoup\n",
    "soup = BeautifulSoup(urlText, 'lxml')"
   ]
  },
  {
   "cell_type": "code",
   "execution_count": 61,
   "metadata": {},
   "outputs": [],
   "source": [
    "# Scrape column headers\n",
    "# Extract the necessary values for the column headers from the table\n",
    "# and store them as a list\n",
    "column_headers = [th.getText() for th in \n",
    "                  soup.findAll('tr', limit=2)[1].findAll('th')]\n",
    "#column_headers"
   ]
  },
  {
   "cell_type": "code",
   "execution_count": 62,
   "metadata": {},
   "outputs": [
    {
     "data": {
      "text/plain": [
       "list"
      ]
     },
     "execution_count": 62,
     "metadata": {},
     "output_type": "execute_result"
    }
   ],
   "source": [
    "# Select data we want to scrape within the table rows of the element with id=fantasy\n",
    "# We want the elements from the 3rd row and on\n",
    "# Then store them into a list of tag elements callewd table_rows\n",
    "table_rows = soup.select(\"#fantasy tr\")[2:] \n",
    "type(table_rows)"
   ]
  },
  {
   "cell_type": "code",
   "execution_count": 63,
   "metadata": {},
   "outputs": [
    {
     "data": {
      "text/plain": [
       "33"
      ]
     },
     "execution_count": 63,
     "metadata": {},
     "output_type": "execute_result"
    }
   ],
   "source": [
    "len(table_rows[0])"
   ]
  },
  {
   "cell_type": "code",
   "execution_count": 64,
   "metadata": {},
   "outputs": [],
   "source": [
    "# some_data = table_rows[2]\n",
    "# type(some_data)"
   ]
  },
  {
   "cell_type": "code",
   "execution_count": 65,
   "metadata": {},
   "outputs": [],
   "source": [
    "# # Get all ranking categories\n",
    "# for rank in soup.find_all('th'):\n",
    "#     print(rank.get('data-stat'))\n",
    "    \n"
   ]
  },
  {
   "cell_type": "code",
   "execution_count": 66,
   "metadata": {},
   "outputs": [],
   "source": [
    "# for _ in soup.find_all('td'):\n",
    "#     print(_.get('data-stat'))"
   ]
  },
  {
   "cell_type": "code",
   "execution_count": 67,
   "metadata": {},
   "outputs": [
    {
     "data": {
      "text/plain": [
       "559"
      ]
     },
     "execution_count": 67,
     "metadata": {},
     "output_type": "execute_result"
    }
   ],
   "source": [
    "len(soup.find_all('tr')[2:])"
   ]
  },
  {
   "cell_type": "code",
   "execution_count": 68,
   "metadata": {},
   "outputs": [],
   "source": [
    "\n",
    "# tds = make_array()\n",
    "# for tr in soup.find_all('tr')[2:]:\n",
    "#     tds = tr.find_all('td')\n",
    "#     textlist = [x.text for x in tds]\n",
    "#     print('\\t'.join(textlist))"
   ]
  },
  {
   "cell_type": "code",
   "execution_count": 69,
   "metadata": {},
   "outputs": [],
   "source": [
    "#type(textlist)"
   ]
  },
  {
   "cell_type": "code",
   "execution_count": 70,
   "metadata": {},
   "outputs": [],
   "source": [
    "page = requests.get(url)\n",
    "\n",
    "doc = lh.fromstring(page.content)\n",
    "\n",
    "tr_elements = doc.xpath('//tr')"
   ]
  },
  {
   "cell_type": "code",
   "execution_count": 71,
   "metadata": {},
   "outputs": [
    {
     "data": {
      "text/plain": [
       "[33,\n",
       " 33,\n",
       " 33,\n",
       " 33,\n",
       " 33,\n",
       " 33,\n",
       " 33,\n",
       " 33,\n",
       " 33,\n",
       " 33,\n",
       " 33,\n",
       " 33,\n",
       " 33,\n",
       " 33,\n",
       " 33,\n",
       " 33,\n",
       " 33,\n",
       " 33,\n",
       " 33,\n",
       " 33,\n",
       " 33,\n",
       " 33,\n",
       " 33,\n",
       " 33,\n",
       " 33,\n",
       " 33,\n",
       " 33,\n",
       " 33,\n",
       " 33,\n",
       " 33,\n",
       " 33,\n",
       " 33]"
      ]
     },
     "execution_count": 71,
     "metadata": {},
     "output_type": "execute_result"
    }
   ],
   "source": [
    "[len(T) for T in tr_elements[2:34]]"
   ]
  },
  {
   "cell_type": "code",
   "execution_count": 72,
   "metadata": {},
   "outputs": [
    {
     "name": "stdout",
     "output_type": "stream",
     "text": [
      "1 Rk\n",
      "2 Player\n",
      "3 Tm\n",
      "4 FantPos\n",
      "5 Age\n",
      "6 G\n",
      "7 GS\n",
      "8 Cmp\n",
      "9 Att\n",
      "10 Yds\n",
      "11 TD\n",
      "12 Int\n",
      "13 Att\n",
      "14 Yds\n",
      "15 Y/A\n",
      "16 TD\n",
      "17 Tgt\n",
      "18 Rec\n",
      "19 Yds\n",
      "20 Y/R\n",
      "21 TD\n",
      "22 Fmb\n",
      "23 FL\n",
      "24 TD\n",
      "25 2PM\n",
      "26 2PP\n",
      "27 FantPt\n",
      "28 PPR\n",
      "29 DKPt\n",
      "30 FDPt\n",
      "31 VBD\n",
      "32 PosRank\n",
      "33 OvRank\n"
     ]
    }
   ],
   "source": [
    "tr_elements = doc.xpath('//tr')\n",
    "\n",
    "#Create empty list\n",
    "col=[]\n",
    "i=0\n",
    "\n",
    "#For each row, store each first element (header) and an empty list\n",
    "for t in tr_elements[1]:\n",
    "    i+=1\n",
    "    name=t.text_content()\n",
    "    print(i,name)\n",
    "    col.append((name,[]))"
   ]
  },
  {
   "cell_type": "code",
   "execution_count": 73,
   "metadata": {},
   "outputs": [],
   "source": [
    "#Since out first row is the header, data is stored on the second row onwards\n",
    "for j in range(1,len(tr_elements)):\n",
    "    #T is our j'th row\n",
    "    T=tr_elements[j]\n",
    "    \n",
    "    #If row is not of size 33, the //tr data is not from our table \n",
    "    if len(T)!=33:\n",
    "        break\n",
    "    \n",
    "    #i is the index of our column\n",
    "    i=0\n",
    "    \n",
    "    #Iterate through each element of the row\n",
    "    for t in T.iterchildren():\n",
    "        data=t.text_content() \n",
    "        #Append the data to the empty list of the i'th column\n",
    "        col[i][1].append(data)\n",
    "        #Increment i for the next column\n",
    "        i+=1"
   ]
  },
  {
   "cell_type": "code",
   "execution_count": 74,
   "metadata": {},
   "outputs": [
    {
     "data": {
      "text/plain": [
       "[560,\n",
       " 560,\n",
       " 560,\n",
       " 560,\n",
       " 560,\n",
       " 560,\n",
       " 560,\n",
       " 560,\n",
       " 560,\n",
       " 560,\n",
       " 560,\n",
       " 560,\n",
       " 560,\n",
       " 560,\n",
       " 560,\n",
       " 560,\n",
       " 560,\n",
       " 560,\n",
       " 560,\n",
       " 560,\n",
       " 560,\n",
       " 560,\n",
       " 560,\n",
       " 560,\n",
       " 560,\n",
       " 560,\n",
       " 560,\n",
       " 560,\n",
       " 560,\n",
       " 560,\n",
       " 560,\n",
       " 560,\n",
       " 560]"
      ]
     },
     "execution_count": 74,
     "metadata": {},
     "output_type": "execute_result"
    }
   ],
   "source": [
    "[len(C) for (title,C) in col]"
   ]
  },
  {
   "cell_type": "code",
   "execution_count": 75,
   "metadata": {},
   "outputs": [],
   "source": [
    "Dict={title:column for (title,column) in col}\n",
    "df=pd.DataFrame(Dict)"
   ]
  },
  {
   "cell_type": "code",
   "execution_count": 76,
   "metadata": {},
   "outputs": [
    {
     "data": {
      "text/html": [
       "<div>\n",
       "<style scoped>\n",
       "    .dataframe tbody tr th:only-of-type {\n",
       "        vertical-align: middle;\n",
       "    }\n",
       "\n",
       "    .dataframe tbody tr th {\n",
       "        vertical-align: top;\n",
       "    }\n",
       "\n",
       "    .dataframe thead th {\n",
       "        text-align: right;\n",
       "    }\n",
       "</style>\n",
       "<table border=\"1\" class=\"dataframe\">\n",
       "  <thead>\n",
       "    <tr style=\"text-align: right;\">\n",
       "      <th></th>\n",
       "      <th>Rk</th>\n",
       "      <th>Player</th>\n",
       "      <th>Tm</th>\n",
       "      <th>FantPos</th>\n",
       "      <th>Age</th>\n",
       "      <th>G</th>\n",
       "      <th>GS</th>\n",
       "      <th>Cmp</th>\n",
       "      <th>Att</th>\n",
       "      <th>Yds</th>\n",
       "      <th>...</th>\n",
       "      <th>FL</th>\n",
       "      <th>2PM</th>\n",
       "      <th>2PP</th>\n",
       "      <th>FantPt</th>\n",
       "      <th>PPR</th>\n",
       "      <th>DKPt</th>\n",
       "      <th>FDPt</th>\n",
       "      <th>VBD</th>\n",
       "      <th>PosRank</th>\n",
       "      <th>OvRank</th>\n",
       "    </tr>\n",
       "  </thead>\n",
       "  <tbody>\n",
       "    <tr>\n",
       "      <th>0</th>\n",
       "      <td>Rk</td>\n",
       "      <td>Player</td>\n",
       "      <td>Tm</td>\n",
       "      <td>FantPos</td>\n",
       "      <td>Age</td>\n",
       "      <td>G</td>\n",
       "      <td>GS</td>\n",
       "      <td>Cmp</td>\n",
       "      <td>Att</td>\n",
       "      <td>Yds</td>\n",
       "      <td>...</td>\n",
       "      <td>FL</td>\n",
       "      <td>2PM</td>\n",
       "      <td>2PP</td>\n",
       "      <td>FantPt</td>\n",
       "      <td>PPR</td>\n",
       "      <td>DKPt</td>\n",
       "      <td>FDPt</td>\n",
       "      <td>VBD</td>\n",
       "      <td>PosRank</td>\n",
       "      <td>OvRank</td>\n",
       "    </tr>\n",
       "    <tr>\n",
       "      <th>1</th>\n",
       "      <td>1</td>\n",
       "      <td>Todd Gurley</td>\n",
       "      <td>LAR</td>\n",
       "      <td>RB</td>\n",
       "      <td>24</td>\n",
       "      <td>11</td>\n",
       "      <td>11</td>\n",
       "      <td>0</td>\n",
       "      <td>210</td>\n",
       "      <td>441</td>\n",
       "      <td>...</td>\n",
       "      <td>1</td>\n",
       "      <td>3</td>\n",
       "      <td></td>\n",
       "      <td>254</td>\n",
       "      <td>297.4</td>\n",
       "      <td>304.4</td>\n",
       "      <td>275.9</td>\n",
       "      <td>165</td>\n",
       "      <td>1</td>\n",
       "      <td>1</td>\n",
       "    </tr>\n",
       "    <tr>\n",
       "      <th>2</th>\n",
       "      <td>2</td>\n",
       "      <td>Alvin Kamara</td>\n",
       "      <td>NOR</td>\n",
       "      <td>RB</td>\n",
       "      <td>23</td>\n",
       "      <td>11</td>\n",
       "      <td>10</td>\n",
       "      <td>0</td>\n",
       "      <td>150</td>\n",
       "      <td>519</td>\n",
       "      <td>...</td>\n",
       "      <td>0</td>\n",
       "      <td>2</td>\n",
       "      <td></td>\n",
       "      <td>217</td>\n",
       "      <td>273.5</td>\n",
       "      <td>279.5</td>\n",
       "      <td>245.0</td>\n",
       "      <td>127</td>\n",
       "      <td>2</td>\n",
       "      <td>2</td>\n",
       "    </tr>\n",
       "    <tr>\n",
       "      <th>3</th>\n",
       "      <td>3</td>\n",
       "      <td>Kareem Hunt</td>\n",
       "      <td>KAN</td>\n",
       "      <td>RB</td>\n",
       "      <td>23</td>\n",
       "      <td>11</td>\n",
       "      <td>11</td>\n",
       "      <td>0</td>\n",
       "      <td>181</td>\n",
       "      <td>378</td>\n",
       "      <td>...</td>\n",
       "      <td>0</td>\n",
       "      <td></td>\n",
       "      <td></td>\n",
       "      <td>204</td>\n",
       "      <td>230.2</td>\n",
       "      <td>236.2</td>\n",
       "      <td>217.2</td>\n",
       "      <td>114</td>\n",
       "      <td>3</td>\n",
       "      <td>3</td>\n",
       "    </tr>\n",
       "    <tr>\n",
       "      <th>4</th>\n",
       "      <td>4</td>\n",
       "      <td>Tyreek Hill</td>\n",
       "      <td>KAN</td>\n",
       "      <td>WR</td>\n",
       "      <td>24</td>\n",
       "      <td>11</td>\n",
       "      <td>11</td>\n",
       "      <td>0</td>\n",
       "      <td>13</td>\n",
       "      <td>1106</td>\n",
       "      <td>...</td>\n",
       "      <td>0</td>\n",
       "      <td></td>\n",
       "      <td></td>\n",
       "      <td>191</td>\n",
       "      <td>255.7</td>\n",
       "      <td>258.7</td>\n",
       "      <td>223.2</td>\n",
       "      <td>113</td>\n",
       "      <td>1</td>\n",
       "      <td>4</td>\n",
       "    </tr>\n",
       "  </tbody>\n",
       "</table>\n",
       "<p>5 rows × 27 columns</p>\n",
       "</div>"
      ],
      "text/plain": [
       "   Rk        Player   Tm  FantPos  Age   G  GS  Cmp  Att   Yds   ...    FL  \\\n",
       "0  Rk        Player   Tm  FantPos  Age   G  GS  Cmp  Att   Yds   ...    FL   \n",
       "1   1   Todd Gurley  LAR       RB   24  11  11    0  210   441   ...     1   \n",
       "2   2  Alvin Kamara  NOR       RB   23  11  10    0  150   519   ...     0   \n",
       "3   3   Kareem Hunt  KAN       RB   23  11  11    0  181   378   ...     0   \n",
       "4   4   Tyreek Hill  KAN       WR   24  11  11    0   13  1106   ...     0   \n",
       "\n",
       "   2PM  2PP  FantPt    PPR   DKPt   FDPt  VBD  PosRank  OvRank  \n",
       "0  2PM  2PP  FantPt    PPR   DKPt   FDPt  VBD  PosRank  OvRank  \n",
       "1    3          254  297.4  304.4  275.9  165        1       1  \n",
       "2    2          217  273.5  279.5  245.0  127        2       2  \n",
       "3               204  230.2  236.2  217.2  114        3       3  \n",
       "4               191  255.7  258.7  223.2  113        1       4  \n",
       "\n",
       "[5 rows x 27 columns]"
      ]
     },
     "execution_count": 76,
     "metadata": {},
     "output_type": "execute_result"
    }
   ],
   "source": [
    "df.head()"
   ]
  },
  {
   "cell_type": "code",
   "execution_count": 77,
   "metadata": {},
   "outputs": [
    {
     "data": {
      "text/html": [
       "<table border=\"1\" class=\"dataframe\">\n",
       "    <thead>\n",
       "        <tr>\n",
       "            <th>Rk</th> <th>Player</th> <th>Tm</th> <th>FantPos</th> <th>Age</th> <th>G</th> <th>GS</th> <th>Cmp</th> <th>Att</th> <th>Yds</th> <th>TD</th> <th>Int</th> <th>Y/A</th> <th>Tgt</th> <th>Rec</th> <th>Y/R</th> <th>Fmb</th> <th>FL</th> <th>2PM</th> <th>2PP</th> <th>FantPt</th> <th>PPR</th> <th>DKPt</th> <th>FDPt</th> <th>VBD</th> <th>PosRank</th> <th>OvRank</th>\n",
       "        </tr>\n",
       "    </thead>\n",
       "    <tbody>\n",
       "        <tr>\n",
       "            <td>Rk  </td> <td>Player         </td> <td>Tm  </td> <td>FantPos</td> <td>Age </td> <td>G   </td> <td>GS  </td> <td>Cmp </td> <td>Att </td> <td>Yds </td> <td>TD  </td> <td>Int </td> <td>Y/A </td> <td>Tgt </td> <td>Rec </td> <td>Y/R  </td> <td>Fmb </td> <td>FL  </td> <td>2PM </td> <td>2PP </td> <td>FantPt</td> <td>PPR  </td> <td>DKPt </td> <td>FDPt </td> <td>VBD </td> <td>PosRank</td> <td>OvRank</td>\n",
       "        </tr>\n",
       "    </tbody>\n",
       "        <tr>\n",
       "            <td>1   </td> <td>Todd Gurley    </td> <td>LAR </td> <td>RB     </td> <td>24  </td> <td>11  </td> <td>11  </td> <td>0   </td> <td>210 </td> <td>441 </td> <td>17  </td> <td>0   </td> <td>4.97</td> <td>56  </td> <td>43  </td> <td>10.26</td> <td>1   </td> <td>1   </td> <td>3   </td> <td>    </td> <td>254   </td> <td>297.4</td> <td>304.4</td> <td>275.9</td> <td>165 </td> <td>1      </td> <td>1     </td>\n",
       "        </tr>\n",
       "    </tbody>\n",
       "        <tr>\n",
       "            <td>2   </td> <td>Alvin Kamara   </td> <td>NOR </td> <td>RB     </td> <td>23  </td> <td>11  </td> <td>10  </td> <td>0   </td> <td>150 </td> <td>519 </td> <td>15  </td> <td>0   </td> <td>4.71</td> <td>73  </td> <td>57  </td> <td>9.11 </td> <td>0   </td> <td>0   </td> <td>2   </td> <td>    </td> <td>217   </td> <td>273.5</td> <td>279.5</td> <td>245.0</td> <td>127 </td> <td>2      </td> <td>2     </td>\n",
       "        </tr>\n",
       "    </tbody>\n",
       "        <tr>\n",
       "            <td>3   </td> <td>Kareem Hunt    </td> <td>KAN </td> <td>RB     </td> <td>23  </td> <td>11  </td> <td>11  </td> <td>0   </td> <td>181 </td> <td>378 </td> <td>14  </td> <td>0   </td> <td>4.55</td> <td>35  </td> <td>26  </td> <td>14.54</td> <td>0   </td> <td>0   </td> <td>    </td> <td>    </td> <td>204   </td> <td>230.2</td> <td>236.2</td> <td>217.2</td> <td>114 </td> <td>3      </td> <td>3     </td>\n",
       "        </tr>\n",
       "    </tbody>\n",
       "        <tr>\n",
       "            <td>4   </td> <td>Tyreek Hill    </td> <td>KAN </td> <td>WR     </td> <td>24  </td> <td>11  </td> <td>11  </td> <td>0   </td> <td>13  </td> <td>1106</td> <td>12  </td> <td>0   </td> <td>6.23</td> <td>94  </td> <td>65  </td> <td>17.02</td> <td>0   </td> <td>0   </td> <td>    </td> <td>    </td> <td>191   </td> <td>255.7</td> <td>258.7</td> <td>223.2</td> <td>113 </td> <td>1      </td> <td>4     </td>\n",
       "        </tr>\n",
       "    </tbody>\n",
       "        <tr>\n",
       "            <td>5   </td> <td>Patrick Mahomes</td> <td>KAN </td> <td>QB     </td> <td>23  </td> <td>11  </td> <td>11  </td> <td>264 </td> <td>42  </td> <td>0   </td> <td>2   </td> <td>10  </td> <td>4.43</td> <td>0   </td> <td>0   </td> <td>     </td> <td>7   </td> <td>2   </td> <td>    </td> <td>    </td> <td>300   </td> <td>299.7</td> <td>317.7</td> <td>309.7</td> <td>111 </td> <td>1      </td> <td>5     </td>\n",
       "        </tr>\n",
       "    </tbody>\n",
       "        <tr>\n",
       "            <td>6   </td> <td>Ezekiel Elliott</td> <td>DAL </td> <td>RB     </td> <td>23  </td> <td>11  </td> <td>11  </td> <td>0   </td> <td>217 </td> <td>363 </td> <td>8   </td> <td>0   </td> <td>4.95</td> <td>62  </td> <td>47  </td> <td>7.72 </td> <td>4   </td> <td>1   </td> <td>    </td> <td>    </td> <td>190   </td> <td>236.7</td> <td>243.7</td> <td>213.2</td> <td>100 </td> <td>4      </td> <td>6     </td>\n",
       "        </tr>\n",
       "    </tbody>\n",
       "        <tr>\n",
       "            <td>7   </td> <td>Melvin Gordon  </td> <td>LAC </td> <td>RB     </td> <td>25  </td> <td>9   </td> <td>9   </td> <td>0   </td> <td>143 </td> <td>448 </td> <td>11  </td> <td>0   </td> <td>5.18</td> <td>58  </td> <td>42  </td> <td>10.67</td> <td>1   </td> <td>0   </td> <td>2   </td> <td>    </td> <td>189   </td> <td>230.9</td> <td>236.9</td> <td>209.9</td> <td>99  </td> <td>5      </td> <td>7     </td>\n",
       "        </tr>\n",
       "    </tbody>\n",
       "        <tr>\n",
       "            <td>8   </td> <td>Saquon Barkley </td> <td>NYG </td> <td>RB     </td> <td>21  </td> <td>10  </td> <td>10  </td> <td>0   </td> <td>158 </td> <td>540 </td> <td>10  </td> <td>0   </td> <td>4.61</td> <td>79  </td> <td>64  </td> <td>8.44 </td> <td>0   </td> <td>0   </td> <td>1   </td> <td>    </td> <td>189   </td> <td>252.8</td> <td>258.8</td> <td>220.8</td> <td>99  </td> <td>6      </td> <td>8     </td>\n",
       "        </tr>\n",
       "    </tbody>\n",
       "        <tr>\n",
       "            <td>9   </td> <td>James Conner   </td> <td>PIT </td> <td>RB     </td> <td>23  </td> <td>10  </td> <td>9   </td> <td>0   </td> <td>173 </td> <td>411 </td> <td>11  </td> <td>0   </td> <td>4.60</td> <td>60  </td> <td>45  </td> <td>9.13 </td> <td>3   </td> <td>1   </td> <td>2   </td> <td>    </td> <td>189   </td> <td>233.7</td> <td>240.7</td> <td>211.2</td> <td>99  </td> <td>7      </td> <td>9     </td>\n",
       "        </tr>\n",
       "    </tbody>\n",
       "</table>\n",
       "<p>... (550 rows omitted)</p>"
      ],
      "text/plain": [
       "Rk   | Player          | Tm   | FantPos | Age  | G    | GS   | Cmp  | Att  | Yds  | TD   | Int  | Y/A  | Tgt  | Rec  | Y/R   | Fmb  | FL   | 2PM  | 2PP  | FantPt | PPR   | DKPt  | FDPt  | VBD  | PosRank | OvRank\n",
       "Rk   | Player          | Tm   | FantPos | Age  | G    | GS   | Cmp  | Att  | Yds  | TD   | Int  | Y/A  | Tgt  | Rec  | Y/R   | Fmb  | FL   | 2PM  | 2PP  | FantPt | PPR   | DKPt  | FDPt  | VBD  | PosRank | OvRank\n",
       "1    | Todd Gurley     | LAR  | RB      | 24   | 11   | 11   | 0    | 210  | 441  | 17   | 0    | 4.97 | 56   | 43   | 10.26 | 1    | 1    | 3    |      | 254    | 297.4 | 304.4 | 275.9 | 165  | 1       | 1\n",
       "2    | Alvin Kamara    | NOR  | RB      | 23   | 11   | 10   | 0    | 150  | 519  | 15   | 0    | 4.71 | 73   | 57   | 9.11  | 0    | 0    | 2    |      | 217    | 273.5 | 279.5 | 245.0 | 127  | 2       | 2\n",
       "3    | Kareem Hunt     | KAN  | RB      | 23   | 11   | 11   | 0    | 181  | 378  | 14   | 0    | 4.55 | 35   | 26   | 14.54 | 0    | 0    |      |      | 204    | 230.2 | 236.2 | 217.2 | 114  | 3       | 3\n",
       "4    | Tyreek Hill     | KAN  | WR      | 24   | 11   | 11   | 0    | 13   | 1106 | 12   | 0    | 6.23 | 94   | 65   | 17.02 | 0    | 0    |      |      | 191    | 255.7 | 258.7 | 223.2 | 113  | 1       | 4\n",
       "5    | Patrick Mahomes | KAN  | QB      | 23   | 11   | 11   | 264  | 42   | 0    | 2    | 10   | 4.43 | 0    | 0    |       | 7    | 2    |      |      | 300    | 299.7 | 317.7 | 309.7 | 111  | 1       | 5\n",
       "6    | Ezekiel Elliott | DAL  | RB      | 23   | 11   | 11   | 0    | 217  | 363  | 8    | 0    | 4.95 | 62   | 47   | 7.72  | 4    | 1    |      |      | 190    | 236.7 | 243.7 | 213.2 | 100  | 4       | 6\n",
       "7    | Melvin Gordon   | LAC  | RB      | 25   | 9    | 9    | 0    | 143  | 448  | 11   | 0    | 5.18 | 58   | 42   | 10.67 | 1    | 0    | 2    |      | 189    | 230.9 | 236.9 | 209.9 | 99   | 5       | 7\n",
       "8    | Saquon Barkley  | NYG  | RB      | 21   | 10   | 10   | 0    | 158  | 540  | 10   | 0    | 4.61 | 79   | 64   | 8.44  | 0    | 0    | 1    |      | 189    | 252.8 | 258.8 | 220.8 | 99   | 6       | 8\n",
       "9    | James Conner    | PIT  | RB      | 23   | 10   | 9    | 0    | 173  | 411  | 11   | 0    | 4.60 | 60   | 45   | 9.13  | 3    | 1    | 2    |      | 189    | 233.7 | 240.7 | 211.2 | 99   | 7       | 9\n",
       "... (550 rows omitted)"
      ]
     },
     "execution_count": 77,
     "metadata": {},
     "output_type": "execute_result"
    }
   ],
   "source": [
    "fantasy_tbl = Table.from_df(df)\n",
    "fantasy_tbl"
   ]
  },
  {
   "cell_type": "code",
   "execution_count": 78,
   "metadata": {},
   "outputs": [],
   "source": [
    "fantasy_tbl = fantasy_tbl.exclude(0)"
   ]
  },
  {
   "cell_type": "code",
   "execution_count": 79,
   "metadata": {},
   "outputs": [
    {
     "data": {
      "text/html": [
       "<table border=\"1\" class=\"dataframe\">\n",
       "    <thead>\n",
       "        <tr>\n",
       "            <th>Rk</th> <th>Player</th> <th>Tm</th> <th>FantPos</th> <th>Age</th> <th>G</th> <th>GS</th> <th>Cmp</th> <th>Att</th> <th>Yds</th> <th>TD</th> <th>Int</th> <th>Y/A</th> <th>Tgt</th> <th>Rec</th> <th>Y/R</th> <th>Fmb</th> <th>FL</th> <th>2PM</th> <th>2PP</th> <th>FantPt</th> <th>PPR</th> <th>DKPt</th> <th>FDPt</th> <th>VBD</th> <th>PosRank</th> <th>OvRank</th>\n",
       "        </tr>\n",
       "    </thead>\n",
       "    <tbody>\n",
       "        <tr>\n",
       "            <td>1   </td> <td>Todd Gurley    </td> <td>LAR </td> <td>RB     </td> <td>24  </td> <td>11  </td> <td>11  </td> <td>0   </td> <td>210 </td> <td>441 </td> <td>17  </td> <td>0   </td> <td>4.97</td> <td>56  </td> <td>43  </td> <td>10.26</td> <td>1   </td> <td>1   </td> <td>3   </td> <td>    </td> <td>254   </td> <td>297.4</td> <td>304.4</td> <td>275.9</td> <td>165 </td> <td>1      </td> <td>1     </td>\n",
       "        </tr>\n",
       "    </tbody>\n",
       "        <tr>\n",
       "            <td>2   </td> <td>Alvin Kamara   </td> <td>NOR </td> <td>RB     </td> <td>23  </td> <td>11  </td> <td>10  </td> <td>0   </td> <td>150 </td> <td>519 </td> <td>15  </td> <td>0   </td> <td>4.71</td> <td>73  </td> <td>57  </td> <td>9.11 </td> <td>0   </td> <td>0   </td> <td>2   </td> <td>    </td> <td>217   </td> <td>273.5</td> <td>279.5</td> <td>245.0</td> <td>127 </td> <td>2      </td> <td>2     </td>\n",
       "        </tr>\n",
       "    </tbody>\n",
       "        <tr>\n",
       "            <td>3   </td> <td>Kareem Hunt    </td> <td>KAN </td> <td>RB     </td> <td>23  </td> <td>11  </td> <td>11  </td> <td>0   </td> <td>181 </td> <td>378 </td> <td>14  </td> <td>0   </td> <td>4.55</td> <td>35  </td> <td>26  </td> <td>14.54</td> <td>0   </td> <td>0   </td> <td>    </td> <td>    </td> <td>204   </td> <td>230.2</td> <td>236.2</td> <td>217.2</td> <td>114 </td> <td>3      </td> <td>3     </td>\n",
       "        </tr>\n",
       "    </tbody>\n",
       "        <tr>\n",
       "            <td>4   </td> <td>Tyreek Hill    </td> <td>KAN </td> <td>WR     </td> <td>24  </td> <td>11  </td> <td>11  </td> <td>0   </td> <td>13  </td> <td>1106</td> <td>12  </td> <td>0   </td> <td>6.23</td> <td>94  </td> <td>65  </td> <td>17.02</td> <td>0   </td> <td>0   </td> <td>    </td> <td>    </td> <td>191   </td> <td>255.7</td> <td>258.7</td> <td>223.2</td> <td>113 </td> <td>1      </td> <td>4     </td>\n",
       "        </tr>\n",
       "    </tbody>\n",
       "        <tr>\n",
       "            <td>5   </td> <td>Patrick Mahomes</td> <td>KAN </td> <td>QB     </td> <td>23  </td> <td>11  </td> <td>11  </td> <td>264 </td> <td>42  </td> <td>0   </td> <td>2   </td> <td>10  </td> <td>4.43</td> <td>0   </td> <td>0   </td> <td>     </td> <td>7   </td> <td>2   </td> <td>    </td> <td>    </td> <td>300   </td> <td>299.7</td> <td>317.7</td> <td>309.7</td> <td>111 </td> <td>1      </td> <td>5     </td>\n",
       "        </tr>\n",
       "    </tbody>\n",
       "        <tr>\n",
       "            <td>6   </td> <td>Ezekiel Elliott</td> <td>DAL </td> <td>RB     </td> <td>23  </td> <td>11  </td> <td>11  </td> <td>0   </td> <td>217 </td> <td>363 </td> <td>8   </td> <td>0   </td> <td>4.95</td> <td>62  </td> <td>47  </td> <td>7.72 </td> <td>4   </td> <td>1   </td> <td>    </td> <td>    </td> <td>190   </td> <td>236.7</td> <td>243.7</td> <td>213.2</td> <td>100 </td> <td>4      </td> <td>6     </td>\n",
       "        </tr>\n",
       "    </tbody>\n",
       "        <tr>\n",
       "            <td>7   </td> <td>Melvin Gordon  </td> <td>LAC </td> <td>RB     </td> <td>25  </td> <td>9   </td> <td>9   </td> <td>0   </td> <td>143 </td> <td>448 </td> <td>11  </td> <td>0   </td> <td>5.18</td> <td>58  </td> <td>42  </td> <td>10.67</td> <td>1   </td> <td>0   </td> <td>2   </td> <td>    </td> <td>189   </td> <td>230.9</td> <td>236.9</td> <td>209.9</td> <td>99  </td> <td>5      </td> <td>7     </td>\n",
       "        </tr>\n",
       "    </tbody>\n",
       "        <tr>\n",
       "            <td>8   </td> <td>Saquon Barkley </td> <td>NYG </td> <td>RB     </td> <td>21  </td> <td>10  </td> <td>10  </td> <td>0   </td> <td>158 </td> <td>540 </td> <td>10  </td> <td>0   </td> <td>4.61</td> <td>79  </td> <td>64  </td> <td>8.44 </td> <td>0   </td> <td>0   </td> <td>1   </td> <td>    </td> <td>189   </td> <td>252.8</td> <td>258.8</td> <td>220.8</td> <td>99  </td> <td>6      </td> <td>8     </td>\n",
       "        </tr>\n",
       "    </tbody>\n",
       "        <tr>\n",
       "            <td>9   </td> <td>James Conner   </td> <td>PIT </td> <td>RB     </td> <td>23  </td> <td>10  </td> <td>9   </td> <td>0   </td> <td>173 </td> <td>411 </td> <td>11  </td> <td>0   </td> <td>4.60</td> <td>60  </td> <td>45  </td> <td>9.13 </td> <td>3   </td> <td>1   </td> <td>2   </td> <td>    </td> <td>189   </td> <td>233.7</td> <td>240.7</td> <td>211.2</td> <td>99  </td> <td>7      </td> <td>9     </td>\n",
       "        </tr>\n",
       "    </tbody>\n",
       "        <tr>\n",
       "            <td>10  </td> <td>Travis Kelce   </td> <td>KAN </td> <td>TE     </td> <td>29  </td> <td>11  </td> <td>11  </td> <td>0   </td> <td>0   </td> <td>914 </td> <td>7   </td> <td>0   </td> <td>    </td> <td>101 </td> <td>67  </td> <td>13.64</td> <td>1   </td> <td>0   </td> <td>    </td> <td>    </td> <td>133   </td> <td>200.4</td> <td>203.4</td> <td>166.9</td> <td>83  </td> <td>1      </td> <td>10    </td>\n",
       "        </tr>\n",
       "    </tbody>\n",
       "</table>\n",
       "<p>... (549 rows omitted)</p>"
      ],
      "text/plain": [
       "Rk   | Player          | Tm   | FantPos | Age  | G    | GS   | Cmp  | Att  | Yds  | TD   | Int  | Y/A  | Tgt  | Rec  | Y/R   | Fmb  | FL   | 2PM  | 2PP  | FantPt | PPR   | DKPt  | FDPt  | VBD  | PosRank | OvRank\n",
       "1    | Todd Gurley     | LAR  | RB      | 24   | 11   | 11   | 0    | 210  | 441  | 17   | 0    | 4.97 | 56   | 43   | 10.26 | 1    | 1    | 3    |      | 254    | 297.4 | 304.4 | 275.9 | 165  | 1       | 1\n",
       "2    | Alvin Kamara    | NOR  | RB      | 23   | 11   | 10   | 0    | 150  | 519  | 15   | 0    | 4.71 | 73   | 57   | 9.11  | 0    | 0    | 2    |      | 217    | 273.5 | 279.5 | 245.0 | 127  | 2       | 2\n",
       "3    | Kareem Hunt     | KAN  | RB      | 23   | 11   | 11   | 0    | 181  | 378  | 14   | 0    | 4.55 | 35   | 26   | 14.54 | 0    | 0    |      |      | 204    | 230.2 | 236.2 | 217.2 | 114  | 3       | 3\n",
       "4    | Tyreek Hill     | KAN  | WR      | 24   | 11   | 11   | 0    | 13   | 1106 | 12   | 0    | 6.23 | 94   | 65   | 17.02 | 0    | 0    |      |      | 191    | 255.7 | 258.7 | 223.2 | 113  | 1       | 4\n",
       "5    | Patrick Mahomes | KAN  | QB      | 23   | 11   | 11   | 264  | 42   | 0    | 2    | 10   | 4.43 | 0    | 0    |       | 7    | 2    |      |      | 300    | 299.7 | 317.7 | 309.7 | 111  | 1       | 5\n",
       "6    | Ezekiel Elliott | DAL  | RB      | 23   | 11   | 11   | 0    | 217  | 363  | 8    | 0    | 4.95 | 62   | 47   | 7.72  | 4    | 1    |      |      | 190    | 236.7 | 243.7 | 213.2 | 100  | 4       | 6\n",
       "7    | Melvin Gordon   | LAC  | RB      | 25   | 9    | 9    | 0    | 143  | 448  | 11   | 0    | 5.18 | 58   | 42   | 10.67 | 1    | 0    | 2    |      | 189    | 230.9 | 236.9 | 209.9 | 99   | 5       | 7\n",
       "8    | Saquon Barkley  | NYG  | RB      | 21   | 10   | 10   | 0    | 158  | 540  | 10   | 0    | 4.61 | 79   | 64   | 8.44  | 0    | 0    | 1    |      | 189    | 252.8 | 258.8 | 220.8 | 99   | 6       | 8\n",
       "9    | James Conner    | PIT  | RB      | 23   | 10   | 9    | 0    | 173  | 411  | 11   | 0    | 4.60 | 60   | 45   | 9.13  | 3    | 1    | 2    |      | 189    | 233.7 | 240.7 | 211.2 | 99   | 7       | 9\n",
       "10   | Travis Kelce    | KAN  | TE      | 29   | 11   | 11   | 0    | 0    | 914  | 7    | 0    |      | 101  | 67   | 13.64 | 1    | 0    |      |      | 133    | 200.4 | 203.4 | 166.9 | 83   | 1       | 10\n",
       "... (549 rows omitted)"
      ]
     },
     "execution_count": 79,
     "metadata": {},
     "output_type": "execute_result"
    }
   ],
   "source": [
    "fantasy_tbl"
   ]
  },
  {
   "cell_type": "code",
   "execution_count": 80,
   "metadata": {},
   "outputs": [
    {
     "data": {
      "text/html": [
       "<table border=\"1\" class=\"dataframe\">\n",
       "    <thead>\n",
       "        <tr>\n",
       "            <th>Rk</th> <th>Player</th> <th>Tm</th> <th>FantPos</th> <th>Age</th> <th>G</th> <th>GS</th> <th>Cmp</th> <th>Att</th> <th>Yds</th> <th>TD</th> <th>Int</th> <th>Y/A</th> <th>Tgt</th> <th>Rec</th> <th>Y/R</th> <th>Fmb</th> <th>FL</th> <th>2PM</th> <th>2PP</th> <th>FantPt</th> <th>PPR</th> <th>DKPt</th> <th>FDPt</th> <th>VBD</th> <th>PosRank</th> <th>OvRank</th>\n",
       "        </tr>\n",
       "    </thead>\n",
       "    <tbody>\n",
       "        <tr>\n",
       "            <td>1   </td> <td>Todd Gurley    </td> <td>LAR </td> <td>RB     </td> <td>24  </td> <td>11  </td> <td>11  </td> <td>0   </td> <td>210 </td> <td>441 </td> <td>17  </td> <td>0   </td> <td>4.97</td> <td>56  </td> <td>43  </td> <td>10.26</td> <td>1   </td> <td>1   </td> <td>3   </td> <td>    </td> <td>254   </td> <td>297.4</td> <td>304.4</td> <td>275.9</td> <td>165 </td> <td>1      </td> <td>1     </td>\n",
       "        </tr>\n",
       "    </tbody>\n",
       "        <tr>\n",
       "            <td>4   </td> <td>Tyreek Hill    </td> <td>KAN </td> <td>WR     </td> <td>24  </td> <td>11  </td> <td>11  </td> <td>0   </td> <td>13  </td> <td>1106</td> <td>12  </td> <td>0   </td> <td>6.23</td> <td>94  </td> <td>65  </td> <td>17.02</td> <td>0   </td> <td>0   </td> <td>    </td> <td>    </td> <td>191   </td> <td>255.7</td> <td>258.7</td> <td>223.2</td> <td>113 </td> <td>1      </td> <td>4     </td>\n",
       "        </tr>\n",
       "    </tbody>\n",
       "        <tr>\n",
       "            <td>5   </td> <td>Patrick Mahomes</td> <td>KAN </td> <td>QB     </td> <td>23  </td> <td>11  </td> <td>11  </td> <td>264 </td> <td>42  </td> <td>0   </td> <td>2   </td> <td>10  </td> <td>4.43</td> <td>0   </td> <td>0   </td> <td>     </td> <td>7   </td> <td>2   </td> <td>    </td> <td>    </td> <td>300   </td> <td>299.7</td> <td>317.7</td> <td>309.7</td> <td>111 </td> <td>1      </td> <td>5     </td>\n",
       "        </tr>\n",
       "    </tbody>\n",
       "        <tr>\n",
       "            <td>10  </td> <td>Travis Kelce   </td> <td>KAN </td> <td>TE     </td> <td>29  </td> <td>11  </td> <td>11  </td> <td>0   </td> <td>0   </td> <td>914 </td> <td>7   </td> <td>0   </td> <td>    </td> <td>101 </td> <td>67  </td> <td>13.64</td> <td>1   </td> <td>0   </td> <td>    </td> <td>    </td> <td>133   </td> <td>200.4</td> <td>203.4</td> <td>166.9</td> <td>83  </td> <td>1      </td> <td>10    </td>\n",
       "        </tr>\n",
       "    </tbody>\n",
       "        <tr>\n",
       "            <td>75  </td> <td>Shane Smith    </td> <td>NYG </td> <td>       </td> <td>25  </td> <td>2   </td> <td>0   </td> <td>0   </td> <td>0   </td> <td>0   </td> <td>0   </td> <td>0   </td> <td>    </td> <td>0   </td> <td>0   </td> <td>     </td> <td>0   </td> <td>0   </td> <td>    </td> <td>    </td> <td>      </td> <td>     </td> <td>     </td> <td>     </td> <td>    </td> <td>1      </td> <td>75    </td>\n",
       "        </tr>\n",
       "    </tbody>\n",
       "</table>"
      ],
      "text/plain": [
       "Rk   | Player          | Tm   | FantPos | Age  | G    | GS   | Cmp  | Att  | Yds  | TD   | Int  | Y/A  | Tgt  | Rec  | Y/R   | Fmb  | FL   | 2PM  | 2PP  | FantPt | PPR   | DKPt  | FDPt  | VBD  | PosRank | OvRank\n",
       "1    | Todd Gurley     | LAR  | RB      | 24   | 11   | 11   | 0    | 210  | 441  | 17   | 0    | 4.97 | 56   | 43   | 10.26 | 1    | 1    | 3    |      | 254    | 297.4 | 304.4 | 275.9 | 165  | 1       | 1\n",
       "4    | Tyreek Hill     | KAN  | WR      | 24   | 11   | 11   | 0    | 13   | 1106 | 12   | 0    | 6.23 | 94   | 65   | 17.02 | 0    | 0    |      |      | 191    | 255.7 | 258.7 | 223.2 | 113  | 1       | 4\n",
       "5    | Patrick Mahomes | KAN  | QB      | 23   | 11   | 11   | 264  | 42   | 0    | 2    | 10   | 4.43 | 0    | 0    |       | 7    | 2    |      |      | 300    | 299.7 | 317.7 | 309.7 | 111  | 1       | 5\n",
       "10   | Travis Kelce    | KAN  | TE      | 29   | 11   | 11   | 0    | 0    | 914  | 7    | 0    |      | 101  | 67   | 13.64 | 1    | 0    |      |      | 133    | 200.4 | 203.4 | 166.9 | 83   | 1       | 10\n",
       "75   | Shane Smith     | NYG  |         | 25   | 2    | 0    | 0    | 0    | 0    | 0    | 0    |      | 0    | 0    |       | 0    | 0    |      |      |        |       |       |       |      | 1       | 75"
      ]
     },
     "execution_count": 80,
     "metadata": {},
     "output_type": "execute_result"
    }
   ],
   "source": [
    "rank_pos = fantasy_tbl.where('PosRank', are.equal_to('1'))\n",
    "rank_pos"
   ]
  },
  {
   "cell_type": "code",
   "execution_count": 81,
   "metadata": {
    "scrolled": true
   },
   "outputs": [
    {
     "data": {
      "text/html": [
       "<table border=\"1\" class=\"dataframe\">\n",
       "    <thead>\n",
       "        <tr>\n",
       "            <th>PPR</th> <th>Rk max</th> <th>Player max</th> <th>Tm max</th> <th>FantPos max</th> <th>Age max</th> <th>G max</th> <th>GS max</th> <th>Cmp max</th> <th>Att max</th> <th>Yds max</th> <th>TD max</th> <th>Int max</th> <th>Y/A max</th> <th>Tgt max</th> <th>Rec max</th> <th>Y/R max</th> <th>Fmb max</th> <th>FL max</th> <th>2PM max</th> <th>2PP max</th> <th>FantPt max</th> <th>DKPt max</th> <th>FDPt max</th> <th>VBD max</th> <th>PosRank max</th> <th>OvRank max</th>\n",
       "        </tr>\n",
       "    </thead>\n",
       "    <tbody>\n",
       "        <tr>\n",
       "            <td>299.7</td> <td>5     </td> <td>Patrick Mahomes</td> <td>KAN   </td> <td>QB         </td> <td>23     </td> <td>11   </td> <td>11    </td> <td>264    </td> <td>42     </td> <td>0      </td> <td>2     </td> <td>10     </td> <td>4.43   </td> <td>0      </td> <td>0      </td> <td>       </td> <td>7      </td> <td>2     </td> <td>       </td> <td>       </td> <td>300       </td> <td>317.7   </td> <td>309.7   </td> <td>111    </td> <td>1          </td> <td>5         </td>\n",
       "        </tr>\n",
       "    </tbody>\n",
       "        <tr>\n",
       "            <td>297.4</td> <td>1     </td> <td>Todd Gurley    </td> <td>LAR   </td> <td>RB         </td> <td>24     </td> <td>11   </td> <td>11    </td> <td>0      </td> <td>210    </td> <td>441    </td> <td>17    </td> <td>0      </td> <td>4.97   </td> <td>56     </td> <td>43     </td> <td>10.26  </td> <td>1      </td> <td>1     </td> <td>3      </td> <td>       </td> <td>254       </td> <td>304.4   </td> <td>275.9   </td> <td>165    </td> <td>1          </td> <td>1         </td>\n",
       "        </tr>\n",
       "    </tbody>\n",
       "        <tr>\n",
       "            <td>200.4</td> <td>10    </td> <td>Travis Kelce   </td> <td>KAN   </td> <td>TE         </td> <td>29     </td> <td>11   </td> <td>11    </td> <td>0      </td> <td>0      </td> <td>914    </td> <td>7     </td> <td>0      </td> <td>       </td> <td>101    </td> <td>67     </td> <td>13.64  </td> <td>1      </td> <td>0     </td> <td>       </td> <td>       </td> <td>133       </td> <td>203.4   </td> <td>166.9   </td> <td>83     </td> <td>1          </td> <td>10        </td>\n",
       "        </tr>\n",
       "    </tbody>\n",
       "        <tr>\n",
       "            <td>     </td> <td>75    </td> <td>Shane Smith    </td> <td>NYG   </td> <td>           </td> <td>25     </td> <td>2    </td> <td>0     </td> <td>0      </td> <td>0      </td> <td>0      </td> <td>0     </td> <td>0      </td> <td>       </td> <td>0      </td> <td>0      </td> <td>       </td> <td>0      </td> <td>0     </td> <td>       </td> <td>       </td> <td>          </td> <td>        </td> <td>        </td> <td>       </td> <td>1          </td> <td>75        </td>\n",
       "        </tr>\n",
       "    </tbody>\n",
       "        <tr>\n",
       "            <td>255.7</td> <td>4     </td> <td>Tyreek Hill    </td> <td>KAN   </td> <td>WR         </td> <td>24     </td> <td>11   </td> <td>11    </td> <td>0      </td> <td>13     </td> <td>1106   </td> <td>12    </td> <td>0      </td> <td>6.23   </td> <td>94     </td> <td>65     </td> <td>17.02  </td> <td>0      </td> <td>0     </td> <td>       </td> <td>       </td> <td>191       </td> <td>258.7   </td> <td>223.2   </td> <td>113    </td> <td>1          </td> <td>4         </td>\n",
       "        </tr>\n",
       "    </tbody>\n",
       "</table>"
      ],
      "text/plain": [
       "PPR   | Rk max | Player max      | Tm max | FantPos max | Age max | G max | GS max | Cmp max | Att max | Yds max | TD max | Int max | Y/A max | Tgt max | Rec max | Y/R max | Fmb max | FL max | 2PM max | 2PP max | FantPt max | DKPt max | FDPt max | VBD max | PosRank max | OvRank max\n",
       "299.7 | 5      | Patrick Mahomes | KAN    | QB          | 23      | 11    | 11     | 264     | 42      | 0       | 2      | 10      | 4.43    | 0       | 0       |         | 7       | 2      |         |         | 300        | 317.7    | 309.7    | 111     | 1           | 5\n",
       "297.4 | 1      | Todd Gurley     | LAR    | RB          | 24      | 11    | 11     | 0       | 210     | 441     | 17     | 0       | 4.97    | 56      | 43      | 10.26   | 1       | 1      | 3       |         | 254        | 304.4    | 275.9    | 165     | 1           | 1\n",
       "200.4 | 10     | Travis Kelce    | KAN    | TE          | 29      | 11    | 11     | 0       | 0       | 914     | 7      | 0       |         | 101     | 67      | 13.64   | 1       | 0      |         |         | 133        | 203.4    | 166.9    | 83      | 1           | 10\n",
       "      | 75     | Shane Smith     | NYG    |             | 25      | 2     | 0      | 0       | 0       | 0       | 0      | 0       |         | 0       | 0       |         | 0       | 0      |         |         |            |          |          |         | 1           | 75\n",
       "255.7 | 4      | Tyreek Hill     | KAN    | WR          | 24      | 11    | 11     | 0       | 13      | 1106    | 12     | 0       | 6.23    | 94      | 65      | 17.02   | 0       | 0      |         |         | 191        | 258.7    | 223.2    | 113     | 1           | 4"
      ]
     },
     "execution_count": 81,
     "metadata": {},
     "output_type": "execute_result"
    }
   ],
   "source": [
    "rank_pos.group('PPR', max).sort(rank_pos.column('PPR'))"
   ]
  },
  {
   "cell_type": "code",
   "execution_count": 82,
   "metadata": {},
   "outputs": [],
   "source": [
    "# Stats to calculate are: find mean PPR points scored per game, find STD and Variance of every player\n",
    "# sort the positions with the highest total average ppr points per game. \n",
    "# "
   ]
  },
  {
   "cell_type": "code",
   "execution_count": null,
   "metadata": {},
   "outputs": [],
   "source": []
  },
  {
   "cell_type": "code",
   "execution_count": 83,
   "metadata": {},
   "outputs": [
    {
     "data": {
      "text/plain": [
       "array(['75', '77', '437', '486', '487', '488', '489', '490', '491', '492',\n",
       "       '493', '494', '495', '496', '498', '499', '502', '505', '508',\n",
       "       '509', '511', '514', '515', '516', '517', '518', '520', '522',\n",
       "       '523', '524', '525', '526', '528', '530', '531', '539'],\n",
       "      dtype='<U3')"
      ]
     },
     "execution_count": 83,
     "metadata": {},
     "output_type": "execute_result"
    }
   ],
   "source": [
    "# Still need to clean the data a bit, so lets find all \n",
    "# the rows that have no stats or data to use in our stats/models \n",
    "#\n",
    "#We search the FantPos column which corresponds to a players position\n",
    "#if we find no position data we will not use these rows\n",
    "\n",
    "nothing = fantasy_tbl.where('FantPos', are.equal_to(''))\n",
    "\n",
    "# now we need to ge the row numbers corresponding to these non-players \n",
    "# by selecting the 'Rk' column from the table we can get the rank of each player\n",
    "# then after store into nothin_array\n",
    "\n",
    "nothin_array = nothing.column('Rk')\n",
    "\n",
    "nothin_array\n"
   ]
  },
  {
   "cell_type": "code",
   "execution_count": 84,
   "metadata": {},
   "outputs": [
    {
     "data": {
      "text/plain": [
       "[75,\n",
       " 77,\n",
       " 437,\n",
       " 486,\n",
       " 487,\n",
       " 488,\n",
       " 489,\n",
       " 490,\n",
       " 491,\n",
       " 492,\n",
       " 493,\n",
       " 494,\n",
       " 495,\n",
       " 496,\n",
       " 498,\n",
       " 499,\n",
       " 502,\n",
       " 505,\n",
       " 508,\n",
       " 509,\n",
       " 511,\n",
       " 514,\n",
       " 515,\n",
       " 516,\n",
       " 517,\n",
       " 518,\n",
       " 520,\n",
       " 522,\n",
       " 523,\n",
       " 524,\n",
       " 525,\n",
       " 526,\n",
       " 528,\n",
       " 530,\n",
       " 531,\n",
       " 539]"
      ]
     },
     "execution_count": 84,
     "metadata": {},
     "output_type": "execute_result"
    }
   ],
   "source": [
    "# So now we have an array with strings that hold the Rk numbers for \n",
    "# players we want to exclude but we need to convert them into a list of type int\n",
    "# so we can make a list and use a for loop to convert all the strings into a int and\n",
    "# store them in a list\n",
    "\n",
    "nothin_list = [int(numeric_string) for numeric_string in nothin_array]\n",
    "nothin_list"
   ]
  },
  {
   "cell_type": "code",
   "execution_count": 85,
   "metadata": {},
   "outputs": [
    {
     "data": {
      "text/plain": [
       "[76,\n",
       " 78,\n",
       " 438,\n",
       " 487,\n",
       " 488,\n",
       " 489,\n",
       " 490,\n",
       " 491,\n",
       " 492,\n",
       " 493,\n",
       " 494,\n",
       " 495,\n",
       " 496,\n",
       " 497,\n",
       " 499,\n",
       " 500,\n",
       " 503,\n",
       " 506,\n",
       " 509,\n",
       " 510,\n",
       " 512,\n",
       " 515,\n",
       " 516,\n",
       " 517,\n",
       " 518,\n",
       " 519,\n",
       " 521,\n",
       " 523,\n",
       " 524,\n",
       " 525,\n",
       " 526,\n",
       " 527,\n",
       " 529,\n",
       " 531,\n",
       " 532,\n",
       " 540]"
      ]
     },
     "execution_count": 85,
     "metadata": {},
     "output_type": "execute_result"
    }
   ],
   "source": [
    "# Now that we have the list of Rk int values we can figure out \n",
    "# their corresponding row index by just adding one to every element in our list\n",
    "# this wil give us the row index for every player we wish to exclude\n",
    "\n",
    "new_nothin_list = [x+1 for x in nothin_list]\n",
    "\n",
    "new_nothin_list"
   ]
  },
  {
   "cell_type": "code",
   "execution_count": 86,
   "metadata": {},
   "outputs": [],
   "source": [
    "# Now we can finally use the tbl.exclude function from the datascience package\n",
    "# to exclude these rows by simply passing the new list of rows indicies to exclude\n",
    "\n",
    "fantasy_tbl_clean = fantasy_tbl.exclude(new_nothin_list)"
   ]
  },
  {
   "cell_type": "code",
   "execution_count": 87,
   "metadata": {},
   "outputs": [
    {
     "data": {
      "text/html": [
       "<table border=\"1\" class=\"dataframe\">\n",
       "    <thead>\n",
       "        <tr>\n",
       "            <th>Rk</th> <th>Player</th> <th>Tm</th> <th>FantPos</th> <th>Age</th> <th>G</th> <th>GS</th> <th>Cmp</th> <th>Att</th> <th>Yds</th> <th>TD</th> <th>Int</th> <th>Y/A</th> <th>Tgt</th> <th>Rec</th> <th>Y/R</th> <th>Fmb</th> <th>FL</th> <th>2PM</th> <th>2PP</th> <th>FantPt</th> <th>PPR</th> <th>DKPt</th> <th>FDPt</th> <th>VBD</th> <th>PosRank</th> <th>OvRank</th>\n",
       "        </tr>\n",
       "    </thead>\n",
       "    <tbody>\n",
       "        <tr>\n",
       "            <td>1   </td> <td>Todd Gurley    </td> <td>LAR </td> <td>RB     </td> <td>24  </td> <td>11  </td> <td>11  </td> <td>0   </td> <td>210 </td> <td>441 </td> <td>17  </td> <td>0   </td> <td>4.97</td> <td>56  </td> <td>43  </td> <td>10.26</td> <td>1   </td> <td>1   </td> <td>3   </td> <td>    </td> <td>254   </td> <td>297.4</td> <td>304.4</td> <td>275.9</td> <td>165 </td> <td>1      </td> <td>1     </td>\n",
       "        </tr>\n",
       "    </tbody>\n",
       "        <tr>\n",
       "            <td>2   </td> <td>Alvin Kamara   </td> <td>NOR </td> <td>RB     </td> <td>23  </td> <td>11  </td> <td>10  </td> <td>0   </td> <td>150 </td> <td>519 </td> <td>15  </td> <td>0   </td> <td>4.71</td> <td>73  </td> <td>57  </td> <td>9.11 </td> <td>0   </td> <td>0   </td> <td>2   </td> <td>    </td> <td>217   </td> <td>273.5</td> <td>279.5</td> <td>245.0</td> <td>127 </td> <td>2      </td> <td>2     </td>\n",
       "        </tr>\n",
       "    </tbody>\n",
       "        <tr>\n",
       "            <td>3   </td> <td>Kareem Hunt    </td> <td>KAN </td> <td>RB     </td> <td>23  </td> <td>11  </td> <td>11  </td> <td>0   </td> <td>181 </td> <td>378 </td> <td>14  </td> <td>0   </td> <td>4.55</td> <td>35  </td> <td>26  </td> <td>14.54</td> <td>0   </td> <td>0   </td> <td>    </td> <td>    </td> <td>204   </td> <td>230.2</td> <td>236.2</td> <td>217.2</td> <td>114 </td> <td>3      </td> <td>3     </td>\n",
       "        </tr>\n",
       "    </tbody>\n",
       "        <tr>\n",
       "            <td>4   </td> <td>Tyreek Hill    </td> <td>KAN </td> <td>WR     </td> <td>24  </td> <td>11  </td> <td>11  </td> <td>0   </td> <td>13  </td> <td>1106</td> <td>12  </td> <td>0   </td> <td>6.23</td> <td>94  </td> <td>65  </td> <td>17.02</td> <td>0   </td> <td>0   </td> <td>    </td> <td>    </td> <td>191   </td> <td>255.7</td> <td>258.7</td> <td>223.2</td> <td>113 </td> <td>1      </td> <td>4     </td>\n",
       "        </tr>\n",
       "    </tbody>\n",
       "        <tr>\n",
       "            <td>5   </td> <td>Patrick Mahomes</td> <td>KAN </td> <td>QB     </td> <td>23  </td> <td>11  </td> <td>11  </td> <td>264 </td> <td>42  </td> <td>0   </td> <td>2   </td> <td>10  </td> <td>4.43</td> <td>0   </td> <td>0   </td> <td>     </td> <td>7   </td> <td>2   </td> <td>    </td> <td>    </td> <td>300   </td> <td>299.7</td> <td>317.7</td> <td>309.7</td> <td>111 </td> <td>1      </td> <td>5     </td>\n",
       "        </tr>\n",
       "    </tbody>\n",
       "        <tr>\n",
       "            <td>6   </td> <td>Ezekiel Elliott</td> <td>DAL </td> <td>RB     </td> <td>23  </td> <td>11  </td> <td>11  </td> <td>0   </td> <td>217 </td> <td>363 </td> <td>8   </td> <td>0   </td> <td>4.95</td> <td>62  </td> <td>47  </td> <td>7.72 </td> <td>4   </td> <td>1   </td> <td>    </td> <td>    </td> <td>190   </td> <td>236.7</td> <td>243.7</td> <td>213.2</td> <td>100 </td> <td>4      </td> <td>6     </td>\n",
       "        </tr>\n",
       "    </tbody>\n",
       "        <tr>\n",
       "            <td>7   </td> <td>Melvin Gordon  </td> <td>LAC </td> <td>RB     </td> <td>25  </td> <td>9   </td> <td>9   </td> <td>0   </td> <td>143 </td> <td>448 </td> <td>11  </td> <td>0   </td> <td>5.18</td> <td>58  </td> <td>42  </td> <td>10.67</td> <td>1   </td> <td>0   </td> <td>2   </td> <td>    </td> <td>189   </td> <td>230.9</td> <td>236.9</td> <td>209.9</td> <td>99  </td> <td>5      </td> <td>7     </td>\n",
       "        </tr>\n",
       "    </tbody>\n",
       "        <tr>\n",
       "            <td>8   </td> <td>Saquon Barkley </td> <td>NYG </td> <td>RB     </td> <td>21  </td> <td>10  </td> <td>10  </td> <td>0   </td> <td>158 </td> <td>540 </td> <td>10  </td> <td>0   </td> <td>4.61</td> <td>79  </td> <td>64  </td> <td>8.44 </td> <td>0   </td> <td>0   </td> <td>1   </td> <td>    </td> <td>189   </td> <td>252.8</td> <td>258.8</td> <td>220.8</td> <td>99  </td> <td>6      </td> <td>8     </td>\n",
       "        </tr>\n",
       "    </tbody>\n",
       "        <tr>\n",
       "            <td>9   </td> <td>James Conner   </td> <td>PIT </td> <td>RB     </td> <td>23  </td> <td>10  </td> <td>9   </td> <td>0   </td> <td>173 </td> <td>411 </td> <td>11  </td> <td>0   </td> <td>4.60</td> <td>60  </td> <td>45  </td> <td>9.13 </td> <td>3   </td> <td>1   </td> <td>2   </td> <td>    </td> <td>189   </td> <td>233.7</td> <td>240.7</td> <td>211.2</td> <td>99  </td> <td>7      </td> <td>9     </td>\n",
       "        </tr>\n",
       "    </tbody>\n",
       "        <tr>\n",
       "            <td>10  </td> <td>Travis Kelce   </td> <td>KAN </td> <td>TE     </td> <td>29  </td> <td>11  </td> <td>11  </td> <td>0   </td> <td>0   </td> <td>914 </td> <td>7   </td> <td>0   </td> <td>    </td> <td>101 </td> <td>67  </td> <td>13.64</td> <td>1   </td> <td>0   </td> <td>    </td> <td>    </td> <td>133   </td> <td>200.4</td> <td>203.4</td> <td>166.9</td> <td>83  </td> <td>1      </td> <td>10    </td>\n",
       "        </tr>\n",
       "    </tbody>\n",
       "</table>\n",
       "<p>... (513 rows omitted)</p>"
      ],
      "text/plain": [
       "Rk   | Player          | Tm   | FantPos | Age  | G    | GS   | Cmp  | Att  | Yds  | TD   | Int  | Y/A  | Tgt  | Rec  | Y/R   | Fmb  | FL   | 2PM  | 2PP  | FantPt | PPR   | DKPt  | FDPt  | VBD  | PosRank | OvRank\n",
       "1    | Todd Gurley     | LAR  | RB      | 24   | 11   | 11   | 0    | 210  | 441  | 17   | 0    | 4.97 | 56   | 43   | 10.26 | 1    | 1    | 3    |      | 254    | 297.4 | 304.4 | 275.9 | 165  | 1       | 1\n",
       "2    | Alvin Kamara    | NOR  | RB      | 23   | 11   | 10   | 0    | 150  | 519  | 15   | 0    | 4.71 | 73   | 57   | 9.11  | 0    | 0    | 2    |      | 217    | 273.5 | 279.5 | 245.0 | 127  | 2       | 2\n",
       "3    | Kareem Hunt     | KAN  | RB      | 23   | 11   | 11   | 0    | 181  | 378  | 14   | 0    | 4.55 | 35   | 26   | 14.54 | 0    | 0    |      |      | 204    | 230.2 | 236.2 | 217.2 | 114  | 3       | 3\n",
       "4    | Tyreek Hill     | KAN  | WR      | 24   | 11   | 11   | 0    | 13   | 1106 | 12   | 0    | 6.23 | 94   | 65   | 17.02 | 0    | 0    |      |      | 191    | 255.7 | 258.7 | 223.2 | 113  | 1       | 4\n",
       "5    | Patrick Mahomes | KAN  | QB      | 23   | 11   | 11   | 264  | 42   | 0    | 2    | 10   | 4.43 | 0    | 0    |       | 7    | 2    |      |      | 300    | 299.7 | 317.7 | 309.7 | 111  | 1       | 5\n",
       "6    | Ezekiel Elliott | DAL  | RB      | 23   | 11   | 11   | 0    | 217  | 363  | 8    | 0    | 4.95 | 62   | 47   | 7.72  | 4    | 1    |      |      | 190    | 236.7 | 243.7 | 213.2 | 100  | 4       | 6\n",
       "7    | Melvin Gordon   | LAC  | RB      | 25   | 9    | 9    | 0    | 143  | 448  | 11   | 0    | 5.18 | 58   | 42   | 10.67 | 1    | 0    | 2    |      | 189    | 230.9 | 236.9 | 209.9 | 99   | 5       | 7\n",
       "8    | Saquon Barkley  | NYG  | RB      | 21   | 10   | 10   | 0    | 158  | 540  | 10   | 0    | 4.61 | 79   | 64   | 8.44  | 0    | 0    | 1    |      | 189    | 252.8 | 258.8 | 220.8 | 99   | 6       | 8\n",
       "9    | James Conner    | PIT  | RB      | 23   | 10   | 9    | 0    | 173  | 411  | 11   | 0    | 4.60 | 60   | 45   | 9.13  | 3    | 1    | 2    |      | 189    | 233.7 | 240.7 | 211.2 | 99   | 7       | 9\n",
       "10   | Travis Kelce    | KAN  | TE      | 29   | 11   | 11   | 0    | 0    | 914  | 7    | 0    |      | 101  | 67   | 13.64 | 1    | 0    |      |      | 133    | 200.4 | 203.4 | 166.9 | 83   | 1       | 10\n",
       "... (513 rows omitted)"
      ]
     },
     "execution_count": 87,
     "metadata": {},
     "output_type": "execute_result"
    }
   ],
   "source": [
    "fantasy_tbl_clean"
   ]
  },
  {
   "cell_type": "code",
   "execution_count": 88,
   "metadata": {},
   "outputs": [],
   "source": [
    "age = fantasy_tbl_clean.column('Age')\n",
    "#age"
   ]
  },
  {
   "cell_type": "code",
   "execution_count": 89,
   "metadata": {},
   "outputs": [],
   "source": [
    "age_list = age.tolist()\n",
    "# age_list\n",
    "\n",
    "new_age_list = []\n",
    "for value in age_list:\n",
    "    try:\n",
    "        new_age_list.append(int(value))\n",
    "    except ValueError:\n",
    "        continue\n",
    "        "
   ]
  },
  {
   "cell_type": "code",
   "execution_count": 90,
   "metadata": {},
   "outputs": [],
   "source": [
    "age_clean = np.array(new_age_list)"
   ]
  },
  {
   "cell_type": "code",
   "execution_count": 91,
   "metadata": {},
   "outputs": [
    {
     "data": {
      "text/plain": [
       "507"
      ]
     },
     "execution_count": 91,
     "metadata": {},
     "output_type": "execute_result"
    }
   ],
   "source": [
    "len(age_clean)"
   ]
  },
  {
   "cell_type": "code",
   "execution_count": 92,
   "metadata": {},
   "outputs": [],
   "source": [
    "targets_raw = fantasy_tbl_clean.column('Tgt')\n"
   ]
  },
  {
   "cell_type": "code",
   "execution_count": 93,
   "metadata": {},
   "outputs": [],
   "source": [
    "targets_list = targets_raw.tolist()\n",
    "targets_list\n",
    "\n",
    "new_tgt_list = []\n",
    "for value in targets_list:\n",
    "    try:\n",
    "        new_tgt_list.append(int(value))\n",
    "    except ValueError:\n",
    "            continue"
   ]
  },
  {
   "cell_type": "code",
   "execution_count": 94,
   "metadata": {},
   "outputs": [
    {
     "data": {
      "text/plain": [
       "array([ 56,  73,  35,  94,   0,  62,  58,  79,  60, 101,  97, 106,   1,\n",
       "       109,  71, 125, 115,   0,   0,  96, 103,  65, 106,  89,  90,  46,\n",
       "        84,  71,  91,  20,   0,   1,  48,  66,  84,  80,  31,  65,  93,\n",
       "        37, 103,   0,  81,   1,  62,  76,  49,  53,  87,  33,  63,   0,\n",
       "        56,  40,  63,  68,  62,  18,  78,  18,  23,  64,   0,  68,  10,\n",
       "        44,  57,  42,  21,  61,  64,   1,  81,  18,   1,  25,   0,   1,\n",
       "         1,   0,   0,   0,   0,   0,   0,   1,   0,   0,   0,   1,   1,\n",
       "         0,  49,  15,  22,  15,  28,   0,  11,  41,  18,  57,  12,   0,\n",
       "        28,   0,  55,  45, 106,  80,  62,  58,  48,  35,  35,  68,  69,\n",
       "        10,   8,  67,  56,  34,  58,  39,   0,  52,  12,  62,   7,  49,\n",
       "        57,  42,  63,  18,   0,  59,   0,   6,  56,  25,  33,  79,  32,\n",
       "        33,  43,  61,  48,  61,  24,  77,  32,  70,  39,  59,  42,  11,\n",
       "        34,  59,  33,  15,  19,  23,  43,  58,  16,  18,  42,   0,  50,\n",
       "        28,  55,  28,  56,  36,  18,  32,  26,  12,  20,  25,   2,  36,\n",
       "        19,  30,  12,  37,  27,  28,   0,  49,  50,  35,  11,  39,  33,\n",
       "        55,  13,  35,  38,   6,  33,  15,  29,  34,  30,  24,  30,  20,\n",
       "        32,  56,  42,  30,  45,  30,  45,  40,  32,  58,  19,  33,   7,\n",
       "        21,  39,  31,   7,  51,  26,  25,  23,   0,  15,  42,  33,   9,\n",
       "        27,  38,  43,  32,   7,  25,  19,  14,  22,  18,  26,  29,   1,\n",
       "        12,  16,   8,  20,   0,  30,  19,   4,  11,  20,  28,  53,  26,\n",
       "        13,  19,  13,  16,  18,  25,   5,  26,  29,   1,  13,  23,  29,\n",
       "         3,  15,   0,  17,   1,   0,  31,  15,  21,  14,  31,  17,  23,\n",
       "         8,  16,  16,  17,  19,  14,  30,  31,  15,   7,  24,  27,  10,\n",
       "        25,  11,  20,  13,   7,  10,  17,   8,  10,  19,   6,  22,  14,\n",
       "        16,   0,   0,   0,  15,   8,   0,   6,  10,   6,  11,  20,   5,\n",
       "         5,  12,   9,   4,   2,   0,  10,  13,   5,  13,   5,  14,   7,\n",
       "         0,   1,   8,   5,   8,   7,  17,   6,  12,  10,  13,  17,   0,\n",
       "         0,   8,  10,  12,  13,   4,   5,  10,   3,  11,   8,   0,   5,\n",
       "         8,   9,   8,   8,   6,  13,   5,   7,   5,   3,  10,  15,  11,\n",
       "         5,   3,   5,   5,   5,   1,   4,   8,   4,   7,   0,   4,   5,\n",
       "        11,   4,   2,   5,   6,   3,   6,   4,   4,   5,   3,  11,   1,\n",
       "         6,   1,   1,   2,  12,   3,   4,   6,   6,   6,   6,   4,   7,\n",
       "         5,   1,   5,   3,   2,   2,   2,   2,   2,   0,   2,  10,   0,\n",
       "         4,   3,   1,   3,   0,   5,   0,   1,   2,   0,   3,   5,   3,\n",
       "         1,   3,   3,   4,   1,   2,   3,   4,   2,   2,   4,   1,   1,\n",
       "         4,   1,   1,   3,   0,   2,   4,   1,   2,   2,   4,   0,   7,\n",
       "         5,   1,   0,   0,   1,   1,   0,   1,   0,   0,   0,   0,   0,\n",
       "         0,   2,   0,   0,   1,   0,   0,   0,   2,   0,   3,   0,   0,\n",
       "         0,   0,   1,   0,   1,   0,   0,   0,   2,   0,   0,   0,   0])"
      ]
     },
     "execution_count": 94,
     "metadata": {},
     "output_type": "execute_result"
    }
   ],
   "source": [
    "tgt_clean = np.array(new_tgt_list)\n",
    "tgt_clean"
   ]
  },
  {
   "cell_type": "code",
   "execution_count": 95,
   "metadata": {},
   "outputs": [
    {
     "data": {
      "text/plain": [
       "507"
      ]
     },
     "execution_count": 95,
     "metadata": {},
     "output_type": "execute_result"
    }
   ],
   "source": [
    "len(tgt_clean)"
   ]
  },
  {
   "cell_type": "code",
   "execution_count": 96,
   "metadata": {},
   "outputs": [],
   "source": [
    "def clean_col(col_array):\n",
    "    col_list = col_array.tolist()\n",
    "    #print(col_list)\n",
    "    new_col_list = []\n",
    "    for value in col_list:\n",
    "        try:\n",
    "            new_col_list.append(int(value))\n",
    "        except ValueError:\n",
    "            continue\n",
    "    return np.array(new_col_list)\n",
    "            \n",
    "    "
   ]
  },
  {
   "cell_type": "code",
   "execution_count": 97,
   "metadata": {},
   "outputs": [],
   "source": [
    "TD_clean = clean_col(fantasy_tbl_clean.column('TD'))"
   ]
  },
  {
   "cell_type": "code",
   "execution_count": 98,
   "metadata": {},
   "outputs": [
    {
     "data": {
      "text/plain": [
       "array([17, 15, 14, 12,  2,  8, 11, 10, 11,  7,  8,  9,  3, 11,  8,  3,  7,\n",
       "        2,  1,  8,  5, 10,  5, 10,  4,  8,  4,  3,  6,  7,  4,  3,  5,  8,\n",
       "        5,  4,  6,  4,  3,  7,  5,  3,  5,  0,  5,  6,  7,  5,  3,  6,  6,\n",
       "        0,  6,  4,  6,  3,  5,  5,  2,  6,  6,  4,  0,  4,  6,  3,  2,  5,\n",
       "        8,  5,  3,  5,  3,  5,  1,  3,  1,  0,  2,  0,  2,  0,  1,  0,  1,\n",
       "        0,  1,  0,  1,  0,  2,  1,  5,  5,  5,  5,  3,  1,  3,  2,  3,  4,\n",
       "        5,  1,  4,  0,  3,  4,  2,  2,  4,  3,  5,  5,  4,  3,  2,  4,  4,\n",
       "        4,  3,  2,  3,  2,  0,  3,  1,  3,  5,  3,  4,  3,  3,  3,  0,  3,\n",
       "        3,  5,  2,  3,  4,  2,  4,  4,  5,  2,  2,  1,  4,  1,  4,  1,  3,\n",
       "        0,  2,  3,  4,  2,  4,  1,  1,  5,  1,  2,  4,  1,  3,  0,  2,  3,\n",
       "        2,  2,  2,  2,  4,  4,  3,  1,  2,  2,  1,  2,  1,  2,  1,  3,  3,\n",
       "        2,  1,  1,  1,  2,  1,  1,  2,  1,  0,  2,  2,  3,  2,  4,  4,  1,\n",
       "        2,  3,  2,  3,  2,  1,  1,  2,  2,  1,  1,  1,  2,  0,  1,  1,  1,\n",
       "        1,  1,  1,  1,  1,  3,  2,  1,  0,  3,  1,  2,  2,  2,  1,  0,  1,\n",
       "        1,  2,  0,  2,  2,  3,  0,  1,  1,  3,  2,  3,  1,  0,  1,  1,  1,\n",
       "        2,  1,  1,  0,  0,  2,  1,  2,  1,  0,  1,  2,  0,  1,  0,  1,  1,\n",
       "        1,  1,  1,  0,  1,  0,  0,  0,  0,  2,  1,  1,  1,  0,  1,  1,  0,\n",
       "        1,  0,  1,  0,  0,  0,  1,  0,  0,  1,  0,  1,  1,  0,  1,  1,  0,\n",
       "        1,  1,  0,  1,  1,  0,  0,  2,  0,  1,  0,  1,  1,  0,  1,  1,  0,\n",
       "        0,  1,  1,  0,  0,  1,  1,  1,  1,  0,  1,  0,  1,  1,  0,  0,  1,\n",
       "        1,  1,  1,  0,  0,  0,  0,  0,  0,  0,  0,  0,  0,  0,  0,  0,  0,\n",
       "        0,  0,  1,  0,  0,  0,  0,  0,  0,  0,  0,  0,  0,  0,  0,  0,  0,\n",
       "        0,  0,  0,  0,  0,  0,  0,  0,  0,  0,  0,  0,  0,  0,  0,  0,  0,\n",
       "        0,  0,  0,  0,  0,  0,  0,  0,  0,  0,  0,  0,  0,  0,  0,  0,  0,\n",
       "        0,  0,  0,  0,  0,  0,  0,  0,  0,  0,  0,  0,  0,  0,  0,  0,  0,\n",
       "        0,  0,  0,  0,  0,  0,  0,  0,  0,  0,  0,  0,  0,  0,  0,  0,  0,\n",
       "        0,  0,  0,  0,  0,  0,  0,  0,  0,  0,  0,  0,  0,  0,  0,  0,  0,\n",
       "        0,  0,  0,  0,  0,  0,  0,  0,  0,  0,  0,  0,  0,  0,  0,  0,  0,\n",
       "        0,  0,  0,  0,  0,  0,  0,  0,  0,  0,  0,  0,  0,  0,  0,  0,  0,\n",
       "        0,  0,  0,  0,  0,  0,  0,  0,  0,  0,  0,  0,  0,  0])"
      ]
     },
     "execution_count": 98,
     "metadata": {},
     "output_type": "execute_result"
    }
   ],
   "source": [
    "TD_clean"
   ]
  },
  {
   "cell_type": "code",
   "execution_count": 99,
   "metadata": {},
   "outputs": [
    {
     "data": {
      "text/plain": [
       "507"
      ]
     },
     "execution_count": 99,
     "metadata": {},
     "output_type": "execute_result"
    }
   ],
   "source": [
    "len(TD_clean)"
   ]
  },
  {
   "cell_type": "code",
   "execution_count": 100,
   "metadata": {},
   "outputs": [],
   "source": [
    "Int_clean = clean_col(fantasy_tbl_clean.column('Int'))\n",
    "Rk_clean = clean_col(fantasy_tbl_clean.column('Rk'))\n",
    "G_clean = clean_col(fantasy_tbl_clean.column('G'))\n",
    "GS_clean = clean_col(fantasy_tbl_clean.column('GS'))\n",
    "Cmp_clean = clean_col(fantasy_tbl_clean.column('Cmp'))\n",
    "Att_clean = clean_col(fantasy_tbl_clean.column('Att'))\n",
    "Yds_clean = clean_col(fantasy_tbl_clean.column('Yds'))\n",
    "Rec_clean = clean_col(fantasy_tbl_clean.column('Rec'))\n",
    "Fmb_clean = clean_col(fantasy_tbl_clean.column('Fmb'))\n",
    "FL_clean = clean_col(fantasy_tbl_clean.column('FL'))"
   ]
  },
  {
   "cell_type": "code",
   "execution_count": 101,
   "metadata": {},
   "outputs": [
    {
     "name": "stdout",
     "output_type": "stream",
     "text": [
      "507\n",
      "507\n",
      "507\n",
      "507\n",
      "507\n",
      "507\n",
      "507\n",
      "507\n",
      "507\n",
      "507\n"
     ]
    }
   ],
   "source": [
    "print(len(Int_clean))\n",
    "print(len(Rk_clean))\n",
    "print(len(G_clean))\n",
    "print(len(GS_clean))\n",
    "print(len(Cmp_clean))\n",
    "print(len(Att_clean))\n",
    "print(len(Yds_clean))\n",
    "print(len(Rec_clean))\n",
    "print(len(Fmb_clean))\n",
    "print(len(FL_clean))\n",
    "\n"
   ]
  },
  {
   "cell_type": "code",
   "execution_count": 102,
   "metadata": {},
   "outputs": [],
   "source": [
    "def clean_col_float(col_array):\n",
    "    col_list = col_array.tolist()\n",
    "    #print(col_list)\n",
    "    new_col_list = []\n",
    "    for value in col_list:\n",
    "        try:\n",
    "            new_col_list.append(float(value))\n",
    "        except ValueError:\n",
    "            continue\n",
    "    return np.array(new_col_list)"
   ]
  },
  {
   "cell_type": "code",
   "execution_count": 103,
   "metadata": {},
   "outputs": [],
   "source": [
    "YR_clean = clean_col_float(fantasy_tbl_clean.column('Y/R'))\n",
    "YA_clean = clean_col_float(fantasy_tbl_clean.column('Y/A'))\n",
    "PPR_clean = clean_col_float(fantasy_tbl_clean.column('PPR'))"
   ]
  },
  {
   "cell_type": "code",
   "execution_count": 104,
   "metadata": {},
   "outputs": [
    {
     "name": "stdout",
     "output_type": "stream",
     "text": [
      "269\n",
      "422\n",
      "485\n"
     ]
    }
   ],
   "source": [
    "print(len(YA_clean))\n",
    "print(len(YR_clean))\n",
    "print(len(PPR_clean))"
   ]
  },
  {
   "cell_type": "code",
   "execution_count": null,
   "metadata": {},
   "outputs": [],
   "source": []
  },
  {
   "cell_type": "code",
   "execution_count": null,
   "metadata": {},
   "outputs": [],
   "source": []
  }
 ],
 "metadata": {
  "kernelspec": {
   "display_name": "Python 3",
   "language": "python",
   "name": "python3"
  },
  "language_info": {
   "codemirror_mode": {
    "name": "ipython",
    "version": 3
   },
   "file_extension": ".py",
   "mimetype": "text/x-python",
   "name": "python",
   "nbconvert_exporter": "python",
   "pygments_lexer": "ipython3",
   "version": "3.6.1"
  }
 },
 "nbformat": 4,
 "nbformat_minor": 2
}
